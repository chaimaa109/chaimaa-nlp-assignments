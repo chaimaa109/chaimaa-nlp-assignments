{
  "nbformat": 4,
  "nbformat_minor": 0,
  "metadata": {
    "colab": {
      "provenance": []
    },
    "kernelspec": {
      "name": "python3",
      "display_name": "Python 3"
    },
    "language_info": {
      "name": "python"
    }
  },
  "cells": [
    {
      "cell_type": "code",
      "execution_count": 2,
      "metadata": {
        "colab": {
          "base_uri": "https://localhost:8080/"
        },
        "id": "0LQIyWJPJANU",
        "outputId": "d53d5300-c122-4518-ceb7-449a076266de"
      },
      "outputs": [
        {
          "output_type": "stream",
          "name": "stdout",
          "text": [
            "Dataset shape: (3010, 6)\n",
            "   Unnamed: 0               Date Created  Number of Likes  Source of Tweet  \\\n",
            "0           0  2023-06-25 19:16:20+00:00                0              NaN   \n",
            "1           1  2023-06-25 19:16:18+00:00                0              NaN   \n",
            "2           2  2023-06-25 19:16:07+00:00                0              NaN   \n",
            "3           3  2023-06-25 19:15:56+00:00                0              NaN   \n",
            "4           4  2023-06-25 19:15:54+00:00                0              NaN   \n",
            "\n",
            "                                              Tweets hashtag  \n",
            "0  @jacksonhinklle #wagner with 6.2 billion dolla...  wagner  \n",
            "1  Pobrecito es discapacitado\\n#Reddetuiterosdemo...  wagner  \n",
            "2  News from the EIR Daily Alert\\n\\n“#Putin Addre...  wagner  \n",
            "3  It's Messi day #Messi𓃵 #Messi36 #Russia #bigst...  wagner  \n",
            "4  Il passaggio chiave di Machiavelli era questo ...  wagner  \n"
          ]
        }
      ],
      "source": [
        "import pandas as pd\n",
        "\n",
        "df = pd.read_csv('tweets-data.csv')  # Use relative path since it's in current directory\n",
        "print(\"Dataset shape:\", df.shape)\n",
        "print(df.head())\n"
      ]
    },
    {
      "cell_type": "code",
      "source": [
        "import re\n",
        "\n",
        "def clean_text(text):\n",
        "    text = text.lower()\n",
        "    text = re.sub(r'http\\S+|www.\\S+', '', text)  # remove URLs\n",
        "    text = re.sub(r'@\\w+', '', text)            # remove mentions\n",
        "    text = re.sub(r'#', '', text)               # remove hashtags symbol\n",
        "    text = re.sub(r'[^a-z\\s]', '', text)        # remove punctuation/numbers\n",
        "    text = re.sub(r'\\s+', ' ', text).strip()    # remove extra spaces\n",
        "    return text\n",
        "\n",
        "df['cleaned_text'] = df['Tweets'].astype(str).apply(clean_text)\n",
        "print(df[['Tweets', 'cleaned_text']].head())\n"
      ],
      "metadata": {
        "colab": {
          "base_uri": "https://localhost:8080/"
        },
        "id": "45Xc1NfpLOlz",
        "outputId": "91433761-24a2-484c-a51c-7a500d8761b5"
      },
      "execution_count": 5,
      "outputs": [
        {
          "output_type": "stream",
          "name": "stdout",
          "text": [
            "                                              Tweets  \\\n",
            "0  @jacksonhinklle #wagner with 6.2 billion dolla...   \n",
            "1  Pobrecito es discapacitado\\n#Reddetuiterosdemo...   \n",
            "2  News from the EIR Daily Alert\\n\\n“#Putin Addre...   \n",
            "3  It's Messi day #Messi𓃵 #Messi36 #Russia #bigst...   \n",
            "4  Il passaggio chiave di Machiavelli era questo ...   \n",
            "\n",
            "                                        cleaned_text  \n",
            "0                         wagner with billion dollar  \n",
            "1  pobrecito es discapacitado reddetuiterosdemocr...  \n",
            "2  news from the eir daily alert putin addressed ...  \n",
            "3  its messi day messi messi russia bigstage wagn...  \n",
            "4  il passaggio chiave di machiavelli era questo ...  \n"
          ]
        }
      ]
    },
    {
      "cell_type": "code",
      "source": [
        "!pip install vaderSentiment\n"
      ],
      "metadata": {
        "colab": {
          "base_uri": "https://localhost:8080/"
        },
        "id": "EvhRwvm2Mrw4",
        "outputId": "3afb13c0-a7f4-45c8-db26-71e017864f87"
      },
      "execution_count": 6,
      "outputs": [
        {
          "output_type": "stream",
          "name": "stdout",
          "text": [
            "Collecting vaderSentiment\n",
            "  Downloading vaderSentiment-3.3.2-py2.py3-none-any.whl.metadata (572 bytes)\n",
            "Requirement already satisfied: requests in /usr/local/lib/python3.11/dist-packages (from vaderSentiment) (2.32.3)\n",
            "Requirement already satisfied: charset-normalizer<4,>=2 in /usr/local/lib/python3.11/dist-packages (from requests->vaderSentiment) (3.4.2)\n",
            "Requirement already satisfied: idna<4,>=2.5 in /usr/local/lib/python3.11/dist-packages (from requests->vaderSentiment) (3.10)\n",
            "Requirement already satisfied: urllib3<3,>=1.21.1 in /usr/local/lib/python3.11/dist-packages (from requests->vaderSentiment) (2.4.0)\n",
            "Requirement already satisfied: certifi>=2017.4.17 in /usr/local/lib/python3.11/dist-packages (from requests->vaderSentiment) (2025.6.15)\n",
            "Downloading vaderSentiment-3.3.2-py2.py3-none-any.whl (125 kB)\n",
            "\u001b[2K   \u001b[90m━━━━━━━━━━━━━━━━━━━━━━━━━━━━━━━━━━━━━━━━\u001b[0m \u001b[32m126.0/126.0 kB\u001b[0m \u001b[31m2.5 MB/s\u001b[0m eta \u001b[36m0:00:00\u001b[0m\n",
            "\u001b[?25hInstalling collected packages: vaderSentiment\n",
            "Successfully installed vaderSentiment-3.3.2\n"
          ]
        }
      ]
    },
    {
      "cell_type": "code",
      "source": [
        "from vaderSentiment.vaderSentiment import SentimentIntensityAnalyzer\n",
        "\n",
        "analyzer = SentimentIntensityAnalyzer()\n",
        "\n",
        "def get_sentiment(text):\n",
        "    scores = analyzer.polarity_scores(text)\n",
        "    compound = scores['compound']\n",
        "    if compound >= 0.05:\n",
        "        label = 'positive'\n",
        "    elif compound <= -0.05:\n",
        "        label = 'negative'\n",
        "    else:\n",
        "        label = 'neutral'\n",
        "    return pd.Series([label, compound])\n",
        "\n",
        "df[['sentiment_label', 'sentiment_score']] = df['cleaned_text'].apply(get_sentiment)\n",
        "print(df[['cleaned_text', 'sentiment_label', 'sentiment_score']].head())\n"
      ],
      "metadata": {
        "colab": {
          "base_uri": "https://localhost:8080/"
        },
        "id": "Ac05DBDvMxf1",
        "outputId": "8d5bfeb0-0457-4f6b-f690-dab00178cc08"
      },
      "execution_count": 7,
      "outputs": [
        {
          "output_type": "stream",
          "name": "stdout",
          "text": [
            "                                        cleaned_text sentiment_label  \\\n",
            "0                         wagner with billion dollar         neutral   \n",
            "1  pobrecito es discapacitado reddetuiterosdemocr...        positive   \n",
            "2  news from the eir daily alert putin addressed ...        positive   \n",
            "3  its messi day messi messi russia bigstage wagn...         neutral   \n",
            "4  il passaggio chiave di machiavelli era questo ...         neutral   \n",
            "\n",
            "   sentiment_score  \n",
            "0            0.000  \n",
            "1            0.340  \n",
            "2            0.296  \n",
            "3            0.000  \n",
            "4            0.000  \n"
          ]
        }
      ]
    },
    {
      "cell_type": "code",
      "source": [],
      "metadata": {
        "id": "JhPg3g-CMzpQ"
      },
      "execution_count": null,
      "outputs": []
    }
  ]
}